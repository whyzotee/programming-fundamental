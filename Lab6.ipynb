{
  "nbformat": 4,
  "nbformat_minor": 0,
  "metadata": {
    "colab": {
      "provenance": [],
      "include_colab_link": true
    },
    "kernelspec": {
      "name": "python3",
      "display_name": "Python 3"
    },
    "language_info": {
      "name": "python"
    }
  },
  "cells": [
    {
      "cell_type": "markdown",
      "metadata": {
        "id": "view-in-github",
        "colab_type": "text"
      },
      "source": [
        "<a href=\"https://colab.research.google.com/github/whyzotee/programming-fundamental/blob/main/Lab6.ipynb\" target=\"_parent\"><img src=\"https://colab.research.google.com/assets/colab-badge.svg\" alt=\"Open In Colab\"/></a>"
      ]
    },
    {
      "cell_type": "markdown",
      "source": [
        "Ex. 6.1 ให้เขียนฟังก์ชันชื่อ test_ pangram เพื่อตรวจสอบว่า String ที่รับเข้ามาเป็น pangram หรือไม่ โดย pangram คือ string ที่ประกอบด้วยตัวอักษรทุกตัวในภาษาอังกฤษ (ต้องมีอักษรแต่ละตัวปรากฏอย่างน้อย 1 ครั้ง) เช่น\n",
        "The quick brown fox jumps over the lazy dog\n",
        "รับข้อมูลเป็น string และ return เป็น True หรือ False"
      ],
      "metadata": {
        "id": "g1jKRrPZdrD9"
      }
    },
    {
      "cell_type": "code",
      "execution_count": 3,
      "metadata": {
        "colab": {
          "base_uri": "https://localhost:8080/"
        },
        "id": "oc_mt8z2dluv",
        "outputId": "6964bb8f-cfed-4ddc-9413-1b0b7e0ea629"
      },
      "outputs": [
        {
          "output_type": "stream",
          "name": "stdout",
          "text": [
            "False\n"
          ]
        }
      ],
      "source": [
        "def test_pangram(word):\n",
        "    char = \"abcdefghijklmnopqrstuvwxyz\"\n",
        "    words = []\n",
        "    for i in word.lower():\n",
        "        if i not in words and i in char:\n",
        "          words.append(i)\n",
        "\n",
        "    return len(words) == len(char)\n",
        "\n",
        "print(test_pangram(\"The quick brown fox jumps over the lazy dog\"))"
      ]
    },
    {
      "cell_type": "markdown",
      "source": [
        "Ex 6.2 จงเขียน โปรแกรมที่รวมผลลัพธ์ ของตัวเลขที่อยู่ใน List โดยกำหนดให้ฟังก์ชัน ชื่อ find_sum(n_list,n) โดย n_list เป็น List ของตัวเลขที่มีความยาว n โดยให้เขียนในแบบ Recursion\n"
      ],
      "metadata": {
        "id": "jsFdK2rreKku"
      }
    },
    {
      "cell_type": "code",
      "source": [
        "sum = 0\n",
        "def find_sum(n_list, n):\n",
        "  global sum\n",
        "  sum += n_list[n-1]\n",
        "  return find_sum(n_list, n-1) if n-1 > 0 else sum\n",
        "\n",
        "find_sum([1,2,3,4,5,6,7,8,9,10], 10)"
      ],
      "metadata": {
        "id": "SWhMgyAc0uSI",
        "colab": {
          "base_uri": "https://localhost:8080/"
        },
        "outputId": "a3d0c97a-53fe-4788-af50-559ef2ad990d"
      },
      "execution_count": 60,
      "outputs": [
        {
          "output_type": "execute_result",
          "data": {
            "text/plain": [
              "55"
            ]
          },
          "metadata": {},
          "execution_count": 60
        }
      ]
    },
    {
      "cell_type": "markdown",
      "source": [
        "Ex 6.3 กำหนดให้ List x เก็บ String และตัวแปร c เก็บตัวอักษร\n",
        "ให้สร้าง List d ที่เก็บจำนวนครั้งที่ตัวอักษรใน c ปรากฏในแต่ละ String ของ List x โดยใช้ List comprehension\n",
        "\n",
        "- เช่น x = [‘abba’, ‘babana’, ‘ann’]; c = ‘a’\n",
        "- จะได้ d = [2, 3, 1]\n",
        "\n",
        "ให้เขียนในฟังก์ชัน count_char_in_string(x,c) แล้ว return เป็น List คำตอบ"
      ],
      "metadata": {
        "id": "S9FRT-zz05-A"
      }
    },
    {
      "cell_type": "code",
      "source": [
        "def count_char_in_string(x, c):\n",
        "  print([i.count(c) for i in x])\n",
        "\n",
        "count_char_in_string(['abba', 'babana', 'ann'],'a') # => [2, 3, 1]\n",
        "count_char_in_string(['apple', 'banana', 'cherry'],'a') # => [1, 3, 1]\n",
        "count_char_in_string(['dog', 'cat', 'fish'],'z') # => [0, 0, 0]\n",
        "count_char_in_string(['abc', 'bcb', 'cab'],'b') # => [1, 2, 1]\n",
        "count_char_in_string(['', 'a', ''],'a') # => [0, 1, 0]\n",
        "count_char_in_string(['@home', '#hash', 'space '],'#') # => [0, 1, 0]"
      ],
      "metadata": {
        "id": "yQZQFVa01JPs",
        "colab": {
          "base_uri": "https://localhost:8080/"
        },
        "outputId": "10b72422-dedc-420e-bc9e-d1570eadc0c6"
      },
      "execution_count": 101,
      "outputs": [
        {
          "output_type": "stream",
          "name": "stdout",
          "text": [
            "[2, 3, 1]\n",
            "[1, 3, 0]\n",
            "[0, 0, 0]\n",
            "[1, 2, 1]\n",
            "[0, 1, 0]\n",
            "[0, 1, 0]\n"
          ]
        }
      ]
    },
    {
      "cell_type": "markdown",
      "source": [
        "Ex 6.4  กำหนดให้ List x เป็น List ของจำนวนเต็ม\n",
        "ให้เขียนโปรแกรมเพื่อลบจำนวนเต็มทุกตัวใน x ที่มีค่าเป็นลบ โดยใช้ List comprehension\n",
        "\n",
        "- เช่น x = [ [1, -3, 2], [-8, 5], [-1, -4, -3] ]\n",
        "- ได้คำตอบเป็น [ [1, 2], [5], [] ]\n",
        "\n",
        "ให้เขียนในฟังก์ชัน delete_minus(x) แล้ว return เป็น List คำตอบ\n",
        "Hint : ถ้าคิดไม่ออกให้ทดลองเขียนแบบปกติก่อน แล้วค่อยลดรูป\n"
      ],
      "metadata": {
        "id": "vRtEJLkP5MLT"
      }
    },
    {
      "cell_type": "code",
      "source": [
        "def delete_minus(x):\n",
        "  del_list = [[i for i in num_lst if i >= 0] for num_lst in x]\n",
        "  print(del_list)\n",
        "\n",
        "delete_minus([[1, -3, 2], [-8, 5], [-1, -4, -3]]) # => [[1, 2], [5], []]\n",
        "delete_minus([[0, -1, -2], [3, 4, -5], [-6, 7]]) # => [[0], [3, 4], [7]]\n",
        "delete_minus([[10, -10, 20], [-30, 30], [40, -40]]) # => [[10, 20], [30], [40]]\n",
        "delete_minus([[1, 2, 3], [4, 5], [6]]) # => [[1, 2, 3], [4, 5], [6]]\n",
        "delete_minus([[-1, -2, -3], [-4, -5], [-6]]) # => [[], [], []]\n",
        "delete_minus([[-10, -20, -30], [-40, -50], [-60]]) # => [[], [], []]"
      ],
      "metadata": {
        "id": "SDA5CALo5WPK",
        "colab": {
          "base_uri": "https://localhost:8080/"
        },
        "outputId": "033b32dc-f08c-4067-a262-9ff8b2b28043"
      },
      "execution_count": 69,
      "outputs": [
        {
          "output_type": "stream",
          "name": "stdout",
          "text": [
            "[[1, 2], [5], []]\n",
            "[[0], [3, 4], [7]]\n",
            "[[10, 20], [30], [40]]\n",
            "[[1, 2, 3], [4, 5], [6]]\n",
            "[[], [], []]\n",
            "[[], [], []]\n"
          ]
        }
      ]
    },
    {
      "cell_type": "markdown",
      "source": [
        "Ex 6.5 ให้เขียนโปรแกรมเพื่อรับข้อมูล 1 บรรทัด ที่ประกอบด้วยจำนวนเต็มหลายจำนวน (คั่นด้วยช่องว่าง)\n",
        "ให้ส่งคืนว่ามีจำนวนที่เป็นลบกี่จำนวน โดยใช้ List comprehension\n",
        "ให้เขียนในฟังก์ชัน count_minus(str) แล้ว return เป็นคำตอบ"
      ],
      "metadata": {
        "id": "nLUpu-7v6MCa"
      }
    },
    {
      "cell_type": "code",
      "source": [
        "def count_minus(str):\n",
        "  lst = [i for i in str.split() if int(i) < 0]\n",
        "  print(len(lst))\n",
        "\n",
        "count_minus(\"1 2 -3 4 -5\") # => 2\n",
        "count_minus(\"-1 -2 -3 -4 -5\") # => 5\n",
        "count_minus(\"1 2 3 4 5\") # => 0\n",
        "count_minus(\"0 0 0 0 0\") # => 0\n",
        "count_minus(\"-10 -20 -30 -40 -50\") # => 5"
      ],
      "metadata": {
        "id": "BO0JESLu9cVj",
        "colab": {
          "base_uri": "https://localhost:8080/"
        },
        "outputId": "d6de8ba0-c880-4eaa-ab01-79cb697012e3"
      },
      "execution_count": 72,
      "outputs": [
        {
          "output_type": "stream",
          "name": "stdout",
          "text": [
            "2\n",
            "5\n",
            "0\n",
            "0\n",
            "5\n"
          ]
        }
      ]
    },
    {
      "cell_type": "markdown",
      "source": [
        "Ex 6.6 ให้เขียนโปรแกรมเพื่อรับ string 1 ตัว\n",
        "ให้ส่งคืนเฉพาะตัวอักษรที่เป็นภาษาอังกฤษ โดยใช้ List comprehension\n",
        "ให้เขียนในฟังก์ชัน only_english(string1) แล้ว return เป็นคำตอบเป็น string"
      ],
      "metadata": {
        "id": "18YUhkQ96Fiw"
      }
    },
    {
      "cell_type": "code",
      "source": [
        "def only_english(string1):\n",
        "  char = \"ABCDEFGHIJKLMNOPQRSTUVWXYZabcdefghijklmnopqrstuvwxyz\"\n",
        "  n = [''.join([i for i in word if i in char]) for word in string1.split()]\n",
        "  word = ' '.join(n)\n",
        "\n",
        "  print('\"\"') if ' '.join(n) == \"\" else print(' '.join(n))\n",
        "\n",
        "only_english(\"Hello, World!\") # => \"Hello World\"\n",
        "only_english(\"This is a test.\") # => \"This is a test\"\n",
        "only_english(\"12345\") # => \"\"\n",
        "only_english(\"abcABC123\") # => \"abcABC\"\n",
        "only_english(\"!@#$%^&*()\") # => \"\""
      ],
      "metadata": {
        "id": "QM_Vbz-k9shU",
        "colab": {
          "base_uri": "https://localhost:8080/"
        },
        "outputId": "392f81c0-9806-48a3-839c-9157422b183c"
      },
      "execution_count": 88,
      "outputs": [
        {
          "output_type": "stream",
          "name": "stdout",
          "text": [
            "Hello World\n",
            "This is a test\n",
            "\"\"\n",
            "abcABC\n",
            "\"\"\n"
          ]
        }
      ]
    },
    {
      "cell_type": "markdown",
      "source": [
        "Ex 6.7 กำหนดให้ list x และ y เป็น list ของจำนวนเต็ม โดยมีขนาดเท่ากัน\n",
        "ให้ return list ที่เป็นผลบวกของ list x และ y โดยใช้ list comprehension\n",
        "เขียนให้ function ชื่อ add2list(lst1,lst2)\n",
        "\n",
        "\n"
      ],
      "metadata": {
        "id": "S5dKtu4o96b-"
      }
    },
    {
      "cell_type": "code",
      "source": [
        "def add2list(lst1,lst2):\n",
        "  print([lst1[i]+lst2[i] for i in range(len(lst1))])\n",
        "\n",
        "add2list([1, 2, 3], [4, 5, 6]) # => [5, 7, 9]\n",
        "add2list([-1, -2, -3], [1, 2, 3]) # => [0, 0, 0]\n",
        "add2list([0, 0, 0], [10, 20, 30]) # => [10, 20, 30]\n",
        "add2list([7, 8, 9], [3, 2, 1]) # => [10, 10, 10]\n",
        "add2list([100, 200, 300], [400, 500, 600]) # => [500, 700, 900]\n",
        "add2list([1, 2, 3, 4, 5], [6, 7, 8, 9, 10]) # => [7, 9, 11, 13, 15]\n"
      ],
      "metadata": {
        "id": "L18pzqF5-AtR",
        "colab": {
          "base_uri": "https://localhost:8080/"
        },
        "outputId": "6f33cb77-2f00-449b-8945-95a54435466a"
      },
      "execution_count": 92,
      "outputs": [
        {
          "output_type": "stream",
          "name": "stdout",
          "text": [
            "[5, 7, 9]\n",
            "[0, 0, 0]\n",
            "[10, 20, 30]\n",
            "[10, 10, 10]\n",
            "[500, 700, 900]\n",
            "[7, 9, 11, 13, 15]\n"
          ]
        }
      ]
    },
    {
      "cell_type": "markdown",
      "source": [
        "1.\tกำหนดให้ m เป็น list ของ list ของ Integer ให้แปลง m ให้เป็น list ของ integer โดยใช้ List Comprehension โดยให้เขียนเป็น ฟังก์ชัน ชื่อ flatten_list(lst) และ return เป็น list คำตอบ\n",
        "- Input : [ [1, 2, 3], [4, 5, 6] ]\n",
        "- Output : [1, 2, 3, 4, 5, 6]\n"
      ],
      "metadata": {
        "id": "5HpBdNsU-4SW"
      }
    },
    {
      "cell_type": "code",
      "source": [
        "def flatten_list(lst):\n",
        "  m = [number for i in lst for number in i]\n",
        "  print(m)\n",
        "\n",
        "flatten_list([[1, 2, 3], [4, 5, 6]]) # => [1, 2, 3, 4, 5, 6]\n",
        "flatten_list([[7, 8], [9, 10], [11, 12]]) # => [7, 8, 9, 10, 11, 12]\n",
        "flatten_list([[0], [1], [2], [3]]) # => [0, 1, 2, 3]\n",
        "flatten_list([[1, 1, 1], [2, 2], [3]]) # => [1, 1, 1, 2, 2, 3]\n",
        "flatten_list([[5, 6, 7], [8], [9, 10]]) # => [5, 6, 7, 8, 9, 10]"
      ],
      "metadata": {
        "id": "nfKGEY7d--zX",
        "colab": {
          "base_uri": "https://localhost:8080/"
        },
        "outputId": "55ff95de-b741-45f6-b502-f3c64de273f7"
      },
      "execution_count": 97,
      "outputs": [
        {
          "output_type": "stream",
          "name": "stdout",
          "text": [
            "[1, 2, 3, 4, 5, 6]\n",
            "[7, 8, 9, 10, 11, 12]\n",
            "[0, 1, 2, 3]\n",
            "[1, 1, 1, 2, 2, 3]\n",
            "[5, 6, 7, 8, 9, 10]\n"
          ]
        }
      ]
    },
    {
      "cell_type": "markdown",
      "source": [
        "2.\tกำหนดให้ s เป็น list ของ Integer ให้เขียนโปรแกรม ตัดตัวเลขที่ซ้ำกันใน list ให้เหลือเพียงตัวเลขเดียว โดยใช้ list comprehension (ห้ามใช้ set) โดยมีขั้นตอนดังนี้\n",
        "-\tเรียงลำดับข้อมูลใน list\n",
        "-\tสร้าง list ใหม่ โดยนำข้อมูลใน list ตัวที่ติดกันมาพิจารณาจากซ้ายไปขวา หากค่าไม่เท่ากันให้นำไปใส่ใน list ใหม่\n",
        "-\tนำตัวขวาสุด (ตัวสุดท้าย) เพิ่มเข้าไปใน list ใหม่ ก็จะได้ s ที่ไม่มีตัวซ้ำ\n",
        "-\tโดยให้เขียนเป็นฟังก์ชัน ชื่อ remove_duplicate(s)\n",
        "\n",
        "- Input : [1, 2, 3, 3, 4, 5, 6]\n",
        "- Output : [1, 2, 3, 4, 5, 6]\n",
        "\n",
        "ห้ามใช้ sort"
      ],
      "metadata": {
        "id": "_FXeyEnm_y8X"
      }
    },
    {
      "cell_type": "code",
      "source": [
        "def my_sort(s):\n",
        "  for i in range(len(s)):\n",
        "    for j in range(i+1, len(s)):\n",
        "      if s[i] >= s[j]:\n",
        "        s[i], s[j] = s[j], s[i]\n",
        "  return s\n",
        "\n",
        "def remove_duplicate(s):\n",
        "  s = my_sort(s)\n",
        "  print([s[i] for i in range(len(s)) if (i == 0) or (s[i-1] != s[i])])\n",
        "\n",
        "remove_duplicate([1, 2, 3, 3, 4, 5, 6]) # => [1, 2, 3, 4, 5, 6]\n",
        "remove_duplicate([5, 1, 3, 3, 2, 5, 1]) # => [1, 2, 3, 5]\n",
        "remove_duplicate([7, 7, 8, 8, 8, 9]) # => [7, 8, 9]\n",
        "remove_duplicate([10, 10, 10, 10]) # => [10]\n",
        "remove_duplicate([1, 2, 2, 3, 4, 4, 4, 5]) # => [1, 2, 3, 4, 5]"
      ],
      "metadata": {
        "id": "iH8ceRWJ_5wq",
        "colab": {
          "base_uri": "https://localhost:8080/"
        },
        "outputId": "6c91afff-3405-498e-bc6a-e51a5d6699dd"
      },
      "execution_count": 65,
      "outputs": [
        {
          "output_type": "stream",
          "name": "stdout",
          "text": [
            "[1, 2, 3, 4, 5, 6]\n",
            "[1, 2, 3, 5]\n",
            "[7, 8, 9]\n",
            "[10]\n",
            "[1, 2, 3, 4, 5]\n"
          ]
        }
      ]
    },
    {
      "cell_type": "markdown",
      "source": [
        "3.\tกำหนดให้มี 2 list คือ lst1 และ lst2 ให้ค้นหาสมาชิกที่มีในทั้ง 2 list โดยใช้ list comprehension\n",
        "(ห้ามใช้ set) โดยให้เขียนเป็นฟังก์ชันชื่อ common_member(lst1, lst2) โดย return เป็น list ที่มีสมาชิกทั้ง 2 list\n",
        "- Input : lst1 = [1, 2, 4, 5, 6] lst2 = [2, 3, 4]\n",
        "- Output : [2, 4]\n"
      ],
      "metadata": {
        "id": "f9smt54DAyYU"
      }
    },
    {
      "cell_type": "code",
      "source": [
        "def common_member(lst1, lst2):\n",
        "  print([i for i in lst1 if i in lst2])\n",
        "\n",
        "common_member([1, 2, 4, 5, 6], [2, 3, 4]) # => [2, 4]\n",
        "common_member([1, 2, 3, 4, 5], [6, 7, 8]) # => []\n",
        "common_member([1, 2, 3, 4, 5], [1, 2, 3, 4, 5]) # => [1, 2, 3, 4, 5]\n",
        "common_member([1, 2, 3, 4, 5], [5, 4, 3, 2, 1]) # => [1, 2, 3, 4, 5]\n",
        "common_member([1, 2, 3, 4, 5], [6, 7, 8, 9, 10]) # => []\n"
      ],
      "metadata": {
        "id": "3K2MCpiWA-tX",
        "colab": {
          "base_uri": "https://localhost:8080/"
        },
        "outputId": "2c460d0c-869f-4042-bf81-7f2cbc8f9f38"
      },
      "execution_count": 94,
      "outputs": [
        {
          "output_type": "stream",
          "name": "stdout",
          "text": [
            "[2, 4]\n",
            "[]\n",
            "[1, 2, 3, 4, 5]\n",
            "[1, 2, 3, 4, 5]\n",
            "[]\n"
          ]
        }
      ]
    },
    {
      "cell_type": "markdown",
      "source": [
        "4.\tกำหนดให้ s เป็น String ให้เขียนโปรแกรมโดยใช้ List comprehension โดยให้ตัดตัวอักษรภาษาอังกฤษที่เป็นสระ a, e, i, o, u ออกจากประโยคให้หมด เช่น\n",
        "\n",
        "- Input : “common_member” จะได้ Output เป็น “cmmn mmbr”\n",
        "\n"
      ],
      "metadata": {
        "id": "V71CdsnEBWu8"
      }
    },
    {
      "cell_type": "code",
      "source": [
        "def remove_vowels(s):\n",
        "  vowels = \"aeiou\"\n",
        "  word = [''.join([\" \" if not j.isalpha() else j for j in word if j not in vowels]) for word in s.split()]\n",
        "  print('\"\"' if ' '.join(word)=='' else ' '.join(word))\n",
        "\n",
        "remove_vowels(\"common_member\") # => \"cmmn mmbr\"\n",
        "remove_vowels(\"hello world\") #=> \"hll wrld\"\n",
        "remove_vowels(\"aeiou\") # => \"\"\n",
        "remove_vowels(\"qwertyuiop\") # => \"qwert\n",
        "remove_vowels(\"abcdefghijklmnopqrstuvwxyz\") # => \"bcdfghjklmnp"
      ],
      "metadata": {
        "id": "UNjxlDMqBcSz",
        "colab": {
          "base_uri": "https://localhost:8080/"
        },
        "outputId": "9e97993e-cb93-411b-9e5b-2e4c75d3a9e4"
      },
      "execution_count": 100,
      "outputs": [
        {
          "output_type": "stream",
          "name": "stdout",
          "text": [
            "cmmn mmbr\n",
            "hll wrld\n",
            "\"\"\n",
            "qwrtyp\n",
            "bcdfghjklmnpqrstvwxyz\n"
          ]
        }
      ]
    },
    {
      "cell_type": "markdown",
      "source": [
        "5.\tให้เขียนโปรแกรมรับ list ของจำนวนเต็มชุดหนึ่ง โดย list นี้จะมีสมาชิกพิเศษอยู่ที่ตัวสุดท้าย ซึ่งจะมีค่าเป็นลบเสมอ (สมาชิกตัวอื่นเป็นบวกหรือลบก็ได้) ให้สร้าง list ใหม่ที่เกิดจากสมาชิกทุกตัว (ยกเว้นตัวสุดท้าย) ลบด้วยสมาชิกตัวสุดท้าย\n",
        "- Input : [1, 10, 2, -5]\n",
        "- Output: [-4, 5, -3]\n",
        "- Input : [100, 0, -1]\n",
        "- Output: [99, -1]\n",
        "- Input : [3, -3]\n",
        "\n"
      ],
      "metadata": {
        "id": "Zo07ebrTBjgA"
      }
    },
    {
      "cell_type": "code",
      "source": [
        "def remove_last_element(lst):\n",
        "  print([lst[i] + lst[-1] for i in range(len(lst)-1)])\n",
        "\n",
        "remove_last_element([1, 10, 2, -5]) # => [-4, 5, -3]\n",
        "remove_last_element([100, 0, -1]) # => [99, -1]\n",
        "remove_last_element([3, -3]) # => [0]"
      ],
      "metadata": {
        "id": "cSSMJX5fBi8-",
        "colab": {
          "base_uri": "https://localhost:8080/"
        },
        "outputId": "8ccf5c4e-a25d-46a7-ee9f-42a7814a49ae"
      },
      "execution_count": 105,
      "outputs": [
        {
          "output_type": "stream",
          "name": "stdout",
          "text": [
            "[-4, 5, -3]\n",
            "[99, -1]\n",
            "[0]\n"
          ]
        }
      ]
    },
    {
      "cell_type": "markdown",
      "source": [
        "6.\tกำหนดให้ s เป็น String ให้เขียนโปรแกรมเพื่อหา คำ ที่มีความยาวน้อยกว่า 5 ตัวอักษร โดยใช้ list comprehension\n",
        "- Input : “A total of 16 playable characters!”\n",
        "- Output : “A total of 16”\n",
        "\n"
      ],
      "metadata": {
        "id": "kguZ7w78CP0W"
      }
    },
    {
      "cell_type": "code",
      "source": [
        "def find_short_words(s):\n",
        "  s = [word for word in s.split() if len(word) < 5]\n",
        "  print(' '.join(s))\n",
        "\n",
        "find_short_words(\"A total of 16 playable characters!\") # => \"A total of 16\"\n",
        "find_short_words(\"The quick brown fox jumps over the lazy dog\") # => \"The fox over the dog\"\n",
        "find_short_words(\"Python is a great programming language\") # => \"is a\"\n",
        "find_short_words(\"Short words are kept short and long words are ignored\") # => \"are kept and are\""
      ],
      "metadata": {
        "id": "IN6wcH_WCVJv",
        "colab": {
          "base_uri": "https://localhost:8080/"
        },
        "outputId": "a5f98693-4155-4de3-eb40-f49c27c2d5b4"
      },
      "execution_count": 32,
      "outputs": [
        {
          "output_type": "stream",
          "name": "stdout",
          "text": [
            "A of 16\n",
            "The fox over the lazy dog\n",
            "is a\n",
            "are kept and long are\n"
          ]
        }
      ]
    },
    {
      "cell_type": "markdown",
      "source": [
        "7.\tให้เขียนโปรแกรมเพื่อคำนวณหา rank ของรหัสนักศึกษาที่กำหนด โดยให้เรียงตามคะแนน โดย rank = 1 คือ มีคะแนนสูงสุด โดยใช้ list comprehension\n",
        "กำหนดให้มีข้อมูล s_score มีตัวอย่างดังนี้\n",
        "\n",
        "s_score = [\t[‘65015001’, 87.25],\n",
        "\t\t[‘65015002’, 77.00],\n",
        "\t\t[‘65015003’, 82.50],\n",
        "\t\t[‘65015004’, 69.75],\n",
        "\t\t[‘65015005’, 66.00]  ]\n",
        "    \n",
        "ให้เขียนฟังก์ชัน find_rank( s_score, stu_id ) โดย s_score เป็น list ของคะแนน และ std_id เป็นรหัสนักศึกษาที่ต้องการหา rank\n",
        "เช่น find_rank ( s_score, ‘65015004’) จะ return 4 เพราะมีคะแนนเป็นอันดับ 4\n"
      ],
      "metadata": {
        "id": "yioC3udBDK3M"
      }
    },
    {
      "cell_type": "code",
      "source": [
        "def my_sorted(lst):\n",
        "  for i in range(len(lst)):\n",
        "    for j in range(i+1, len(lst)):\n",
        "      if lst[i][1] <= lst[j][1]:\n",
        "        lst[i], lst[j] = lst[j], lst[i]\n",
        "  return lst\n",
        "\n",
        "def find_rank(s_score, stu_id):\n",
        "    s_score = my_sorted(s_score)\n",
        "    return [i for i in range(len(s_score)) if s_score[i][0] == stu_id][0] + 1\n",
        "\n",
        "s_score = [['65015001', 87.25], ['65015002', 77.00], ['65015003', 82.50], ['65015004', 69.75], ['65015005', 66.00]]\n",
        "print(find_rank(s_score, '65015004'))  # Output: 4\n",
        "\n",
        "# Test Case 2\n",
        "s_score = [['65015001', 90.00], ['65015002', 80.00], ['65015003', 85.00], ['65015004', 70.00], ['65015005', 60.00]]\n",
        "print(find_rank(s_score, '65015002'))  # Output: 2\n",
        "\n",
        "# Test Case 3\n",
        "s_score = [['65015001', 95.00], ['65015002', 95.00], ['65015003', 90.00], ['65015004', 85.00], ['65015005', 80.00]]\n",
        "print(find_rank(s_score, '65015001'))  # Output: 1\n",
        "\n",
        "# Test Case 4\n",
        "s_score = [['65015001', 50.00], ['65015002', 60.00], ['65015003', 70.00], ['65015004', 80.00], ['65015005', 90.00]]\n",
        "print(find_rank(s_score, '65015005'))  # Output: 1\n",
        "\n",
        "# Test Case 5\n",
        "s_score = [['65015001', 55.00], ['65015002', 65.00], ['65015003', 75.00], ['65015004', 85.00], ['65015005', 95.00]]\n",
        "print(find_rank(s_score, '65015003'))  # Output: 3\n",
        "\n"
      ],
      "metadata": {
        "id": "72EkAIBjDTO_",
        "colab": {
          "base_uri": "https://localhost:8080/"
        },
        "outputId": "c1f900c7-2068-4e64-c82d-52a478807474"
      },
      "execution_count": 109,
      "outputs": [
        {
          "output_type": "stream",
          "name": "stdout",
          "text": [
            "4\n",
            "3\n",
            "2\n",
            "1\n",
            "3\n"
          ]
        }
      ]
    },
    {
      "cell_type": "markdown",
      "source": [
        "8.\tให้เขียนโปรแกรม เพื่อหาข้อมูลที่มีความถี่มากกว่าครึ่งหนึ่งของจำนวนข้อมูลที่รับเข้ามา แต่ถ้าไม่พบให้แสดง Not found โดยใช้ list comprehension\n",
        "\n",
        "- เช่น \t[4, 5, 5, 10] ได้ผลลัพธ์เป็น Not found\n",
        "-\t[4, 5, 5] ได้ผลลัพธ์เป็น 5\n",
        "-\t[10, 5, 5, 3, 5] ได้ผลลัพธ์เป็น 5\n",
        "-\t[2, 4, 2, 4, 2, 4] ได้ผลลัพธ์เป็น Not found\n",
        "\n",
        "ให้เขียนเป็นฟังก์ชัน ชื่อ more_than_half(n_list) โดย n_list เป็นข้อมูลนำเข้า และ return เป็นผลลัพธ์ หรือ Not found\n"
      ],
      "metadata": {
        "id": "oJGkdpmfEH2e"
      }
    },
    {
      "cell_type": "code",
      "source": [
        "def more_than_half(n_list):\n",
        "  most = [i for i in n_list if n_list.count(i) > (len(n_list) / 2)]\n",
        "  print(\"Not found\") if len(most) == 0 else print(most[0])\n",
        "\n",
        "more_than_half([4, 5, 5, 10]) # => \"Not found\"\n",
        "more_than_half([4, 5, 5]) # => 5\n",
        "more_than_half([10, 5, 5, 3, 5]) # => 5\n",
        "more_than_half([2, 4, 2, 4, 2, 4]) # => \"Not found\""
      ],
      "metadata": {
        "id": "ahXL6sfbEQUQ",
        "colab": {
          "base_uri": "https://localhost:8080/"
        },
        "outputId": "d71a4106-f52f-4a8f-bef0-94fef7cbf873"
      },
      "execution_count": 99,
      "outputs": [
        {
          "output_type": "stream",
          "name": "stdout",
          "text": [
            "Not found\n",
            "5\n",
            "5\n",
            "Not found\n"
          ]
        }
      ]
    },
    {
      "cell_type": "markdown",
      "source": [
        "9.\tจงเขียนโปรแกรมในแบบ recursion เพื่อกลับ String เช่น\n",
        "- Input : 'desserts'\n",
        "- Output : 'stressed'\n"
      ],
      "metadata": {
        "id": "0oTFJs2PEkL5"
      }
    },
    {
      "cell_type": "code",
      "source": [
        "x = input(\"Input: \")\n",
        "new_str = \"\"\n",
        "\n",
        "def reveres_str(input_str, length):\n",
        "    global new_str\n",
        "    new_str += input_str[length]\n",
        "    return reveres_str(input_str, length - 1) if length > 0 else new_str\n",
        "\n",
        "print(\"Output:\", reveres_str(x, len(x) - 1))\n"
      ],
      "metadata": {
        "id": "_h5KwR9WEo7e",
        "outputId": "15907b07-199a-4dd9-a659-f98865635c1a",
        "colab": {
          "base_uri": "https://localhost:8080/"
        }
      },
      "execution_count": 50,
      "outputs": [
        {
          "output_type": "stream",
          "name": "stdout",
          "text": [
            "Input: desserts\n",
            "Output: stressed\n"
          ]
        }
      ]
    }
  ]
}